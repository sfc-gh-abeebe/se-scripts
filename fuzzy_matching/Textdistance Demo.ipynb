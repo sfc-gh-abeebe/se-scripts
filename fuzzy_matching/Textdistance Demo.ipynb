{
 "cells": [
  {
   "cell_type": "markdown",
   "metadata": {},
   "source": [
    "### Edit Snowflake credentials in creds.json"
   ]
  },
  {
   "cell_type": "markdown",
   "metadata": {},
   "source": [
    "Ensure the python package `textdistance` is installed before beginning.\n",
    "> pip install textdistance"
   ]
  },
  {
   "cell_type": "code",
   "execution_count": 1,
   "metadata": {},
   "outputs": [],
   "source": [
    "import json\n",
    "\n",
    "with open('creds.json') as f:\n",
    "    data = json.load(f)\n",
    "    username = data['username']\n",
    "    password = data['password']\n",
    "    SF_ACCOUNT = data[\"account\"]\n",
    "    SF_WH = data[\"warehouse\"]\n",
    "    SF_DB = data[\"database\"]\n",
    "    SF_SCHEMA = data[\"schema\"]"
   ]
  },
  {
   "cell_type": "code",
   "execution_count": 2,
   "metadata": {},
   "outputs": [],
   "source": [
    "from snowflake.snowpark.session import Session\n",
    "from snowflake.snowpark.functions import udf\n",
    "from snowflake.snowpark.functions import call_udf\n",
    "from snowflake.snowpark.functions import col\n",
    "from snowflake.snowpark.types import *"
   ]
  },
  {
   "cell_type": "code",
   "execution_count": 3,
   "metadata": {},
   "outputs": [],
   "source": [
    "import pandas as pd\n",
    "import textdistance"
   ]
  },
  {
   "cell_type": "code",
   "execution_count": 4,
   "metadata": {},
   "outputs": [],
   "source": [
    "CONNECTION_PARAMETERS = {\n",
    "    'url': SF_ACCOUNT,\n",
    "    'ACCOUNT': SF_ACCOUNT,\n",
    "    'user': username,\n",
    "    'password': password,\n",
    "    'schema': SF_SCHEMA,\n",
    "    'database': SF_DB,\n",
    "    'warehouse': SF_WH\n",
    "}"
   ]
  },
  {
   "cell_type": "markdown",
   "metadata": {},
   "source": [
    "Try to close the session in case you've been running this previously."
   ]
  },
  {
   "cell_type": "code",
   "execution_count": null,
   "metadata": {},
   "outputs": [],
   "source": [
    "try:\n",
    "    session.close()\n",
    "except:\n",
    "    pass"
   ]
  },
  {
   "cell_type": "markdown",
   "metadata": {},
   "source": [
    "First we establish our session with our account credentials and information"
   ]
  },
  {
   "cell_type": "code",
   "execution_count": 5,
   "metadata": {},
   "outputs": [],
   "source": [
    "session = Session.builder.configs(CONNECTION_PARAMETERS).create()"
   ]
  },
  {
   "cell_type": "markdown",
   "metadata": {},
   "source": [
    "## Let's load some data into a table"
   ]
  },
  {
   "cell_type": "markdown",
   "metadata": {},
   "source": [
    "We will use this dataset to determine the best matching room descriptions between Expedia and Booking.com"
   ]
  },
  {
   "cell_type": "code",
   "execution_count": 6,
   "metadata": {},
   "outputs": [],
   "source": [
    "data = pd.read_csv(\"room_type.csv\")\n",
    "session.write_pandas(data, 'ROOM_TYPE', auto_create_table=True)\n",
    "rt = session.table('ROOM_TYPE')\n",
    "df_pandas = rt.to_pandas()"
   ]
  },
  {
   "cell_type": "code",
   "execution_count": 7,
   "metadata": {},
   "outputs": [
    {
     "name": "stdout",
     "output_type": "stream",
     "text": [
      "--------------------------------------------------------------------------------------------------\n",
      "|\"Expedia\"                                  |\"Booking.com\"                                       |\n",
      "--------------------------------------------------------------------------------------------------\n",
      "|Deluxe Room, 1 King Bed                    |Deluxe King Room                                    |\n",
      "|Standard Room, 1 King Bed, Accessible      |Standard King Roll-in Shower Accessible             |\n",
      "|Grand Corner King Room, 1 King Bed         |Grand Corner King Room                              |\n",
      "|Suite, 1 King Bed (Parlor)                 |King Parlor Suite                                   |\n",
      "|High-Floor Premium Room, 1 King Bed        |High-Floor Premium King Room                        |\n",
      "|Traditional Double Room, 2 Double Beds     |Double Room with Two Double Beds                    |\n",
      "|Room, 1 King Bed, Accessible               |King Room - Disability Access                       |\n",
      "|Deluxe Room, 1 King Bed                    |Deluxe King Room                                    |\n",
      "|Deluxe Room                                |Deluxe Room (Non Refundable)                        |\n",
      "|Room, 2 Double Beds (19th to 25th Floors)  |Two Double Beds - Location Room (19th to 25th F...  |\n",
      "--------------------------------------------------------------------------------------------------\n",
      "\n"
     ]
    }
   ],
   "source": [
    "rt.show()"
   ]
  },
  {
   "cell_type": "markdown",
   "metadata": {},
   "source": [
    "Play around with textdistance"
   ]
  },
  {
   "cell_type": "code",
   "execution_count": 8,
   "metadata": {},
   "outputs": [
    {
     "data": {
      "text/html": [
       "<div>\n",
       "<style scoped>\n",
       "    .dataframe tbody tr th:only-of-type {\n",
       "        vertical-align: middle;\n",
       "    }\n",
       "\n",
       "    .dataframe tbody tr th {\n",
       "        vertical-align: top;\n",
       "    }\n",
       "\n",
       "    .dataframe thead th {\n",
       "        text-align: right;\n",
       "    }\n",
       "</style>\n",
       "<table border=\"1\" class=\"dataframe\">\n",
       "  <thead>\n",
       "    <tr style=\"text-align: right;\">\n",
       "      <th></th>\n",
       "      <th>Expedia</th>\n",
       "      <th>Booking.com</th>\n",
       "      <th>similarity_score</th>\n",
       "    </tr>\n",
       "  </thead>\n",
       "  <tbody>\n",
       "    <tr>\n",
       "      <th>0</th>\n",
       "      <td>Deluxe Room, 1 King Bed</td>\n",
       "      <td>Deluxe King Room</td>\n",
       "      <td>7</td>\n",
       "    </tr>\n",
       "    <tr>\n",
       "      <th>1</th>\n",
       "      <td>Standard Room, 1 King Bed, Accessible</td>\n",
       "      <td>Standard King Roll-in Shower Accessible</td>\n",
       "      <td>10</td>\n",
       "    </tr>\n",
       "    <tr>\n",
       "      <th>2</th>\n",
       "      <td>Grand Corner King Room, 1 King Bed</td>\n",
       "      <td>Grand Corner King Room</td>\n",
       "      <td>22</td>\n",
       "    </tr>\n",
       "    <tr>\n",
       "      <th>3</th>\n",
       "      <td>Suite, 1 King Bed (Parlor)</td>\n",
       "      <td>King Parlor Suite</td>\n",
       "      <td>0</td>\n",
       "    </tr>\n",
       "    <tr>\n",
       "      <th>4</th>\n",
       "      <td>High-Floor Premium Room, 1 King Bed</td>\n",
       "      <td>High-Floor Premium King Room</td>\n",
       "      <td>19</td>\n",
       "    </tr>\n",
       "    <tr>\n",
       "      <th>...</th>\n",
       "      <td>...</td>\n",
       "      <td>...</td>\n",
       "      <td>...</td>\n",
       "    </tr>\n",
       "    <tr>\n",
       "      <th>201</th>\n",
       "      <td>Room, 1 King Bed, Accessible, Resort View (Ali...</td>\n",
       "      <td>Alii Tower Resort View With King Bed - Mobilit...</td>\n",
       "      <td>4</td>\n",
       "    </tr>\n",
       "    <tr>\n",
       "      <th>202</th>\n",
       "      <td>Room, 1 King Bed, Accessible, View (Rainbow, B...</td>\n",
       "      <td>Rainbow Tower Ocean View With King Bed - Mobil...</td>\n",
       "      <td>6</td>\n",
       "    </tr>\n",
       "    <tr>\n",
       "      <th>203</th>\n",
       "      <td>Room, 1 King Bed, Ocean View (Alii)</td>\n",
       "      <td>Alii Tower Ocean View With King Bed</td>\n",
       "      <td>0</td>\n",
       "    </tr>\n",
       "    <tr>\n",
       "      <th>204</th>\n",
       "      <td>Room, 1 King Bed, Oceanfront (Rainbow)</td>\n",
       "      <td>Rainbow Tower Ocean Front with King Bed</td>\n",
       "      <td>4</td>\n",
       "    </tr>\n",
       "    <tr>\n",
       "      <th>205</th>\n",
       "      <td>Junior Suite, 1 King Bed, Accessible (Roll-in ...</td>\n",
       "      <td>Junior Suite - Accessible Roll-in Shower</td>\n",
       "      <td>13</td>\n",
       "    </tr>\n",
       "  </tbody>\n",
       "</table>\n",
       "<p>206 rows × 3 columns</p>\n",
       "</div>"
      ],
      "text/plain": [
       "                                               Expedia  \\\n",
       "0                              Deluxe Room, 1 King Bed   \n",
       "1                Standard Room, 1 King Bed, Accessible   \n",
       "2                   Grand Corner King Room, 1 King Bed   \n",
       "3                           Suite, 1 King Bed (Parlor)   \n",
       "4                  High-Floor Premium Room, 1 King Bed   \n",
       "..                                                 ...   \n",
       "201  Room, 1 King Bed, Accessible, Resort View (Ali...   \n",
       "202  Room, 1 King Bed, Accessible, View (Rainbow, B...   \n",
       "203                Room, 1 King Bed, Ocean View (Alii)   \n",
       "204             Room, 1 King Bed, Oceanfront (Rainbow)   \n",
       "205  Junior Suite, 1 King Bed, Accessible (Roll-in ...   \n",
       "\n",
       "                                           Booking.com  similarity_score  \n",
       "0                                     Deluxe King Room                 7  \n",
       "1              Standard King Roll-in Shower Accessible                10  \n",
       "2                               Grand Corner King Room                22  \n",
       "3                                    King Parlor Suite                 0  \n",
       "4                         High-Floor Premium King Room                19  \n",
       "..                                                 ...               ...  \n",
       "201  Alii Tower Resort View With King Bed - Mobilit...                 4  \n",
       "202  Rainbow Tower Ocean View With King Bed - Mobil...                 6  \n",
       "203                Alii Tower Ocean View With King Bed                 0  \n",
       "204            Rainbow Tower Ocean Front with King Bed                 4  \n",
       "205           Junior Suite - Accessible Roll-in Shower                13  \n",
       "\n",
       "[206 rows x 3 columns]"
      ]
     },
     "execution_count": 8,
     "metadata": {},
     "output_type": "execute_result"
    }
   ],
   "source": [
    "df_pandas[\"similarity_score\"] = df_pandas.loc[:, [\"Expedia\",\"Booking.com\"]].apply(lambda x: textdistance.hamming.similarity(*x), axis=1)\n",
    "df_pandas"
   ]
  },
  {
   "cell_type": "markdown",
   "metadata": {},
   "source": [
    "### This Snowflake stage is where our udf and dependencies will be saved"
   ]
  },
  {
   "cell_type": "code",
   "execution_count": 9,
   "metadata": {},
   "outputs": [
    {
     "name": "stdout",
     "output_type": "stream",
     "text": [
      "------------------------------------------------------\n",
      "|\"status\"                                            |\n",
      "------------------------------------------------------\n",
      "|Stage area TEXT_DISTANCE_UDF successfully created.  |\n",
      "------------------------------------------------------\n",
      "\n"
     ]
    }
   ],
   "source": [
    "session.sql('CREATE OR REPLACE STAGE text_distance_udf').show()"
   ]
  },
  {
   "cell_type": "markdown",
   "metadata": {},
   "source": [
    "### Test of the function first in python before saving to Snowflake"
   ]
  },
  {
   "cell_type": "code",
   "execution_count": 10,
   "metadata": {},
   "outputs": [],
   "source": [
    "def text_distance(str1, str2):\n",
    "    score = textdistance.hamming.similarity(str1, str2)\n",
    "    return score"
   ]
  },
  {
   "cell_type": "code",
   "execution_count": 11,
   "metadata": {},
   "outputs": [
    {
     "data": {
      "text/plain": [
       "0       7\n",
       "1      10\n",
       "2      22\n",
       "3       0\n",
       "4      19\n",
       "       ..\n",
       "201     4\n",
       "202     6\n",
       "203     0\n",
       "204     4\n",
       "205    13\n",
       "Length: 206, dtype: int64"
      ]
     },
     "execution_count": 11,
     "metadata": {},
     "output_type": "execute_result"
    }
   ],
   "source": [
    "df_pandas.loc[:, [\"Expedia\",\"Booking.com\"]].apply(lambda x: text_distance(*x), axis=1)"
   ]
  },
  {
   "cell_type": "markdown",
   "metadata": {},
   "source": [
    "### We've verified the return, so let's register the code as a User Defined Function in Snowflake\n",
    "This will automatically import our `textdistance` using the Anaconda channel integration"
   ]
  },
  {
   "cell_type": "code",
   "execution_count": 12,
   "metadata": {},
   "outputs": [
    {
     "name": "stderr",
     "output_type": "stream",
     "text": [
      "The version of package textdistance in the local environment is 4.5.0, which does not fit the criteria for the requirement textdistance. Your UDF might not work when the package version is different between the server and your local environment\n"
     ]
    },
    {
     "name": "stdout",
     "output_type": "stream",
     "text": [
      "CPU times: user 22.8 ms, sys: 4.91 ms, total: 27.7 ms\n",
      "Wall time: 3.27 s\n"
     ]
    }
   ],
   "source": [
    "%%time\n",
    "@udf(name='text_distance', stage_location=\"@text_distance_udf\", is_permanent=True, replace=True, packages=['textdistance'])\n",
    "def text_distance(str1: str, str2: str) -> int:\n",
    "    score = textdistance.hamming.similarity(str1, str2)\n",
    "    return score"
   ]
  },
  {
   "cell_type": "markdown",
   "metadata": {},
   "source": [
    "### Play around with the UDF in Snowflake using Snowpark DataFrame syntax\n",
    "Then print the results"
   ]
  },
  {
   "cell_type": "code",
   "execution_count": 13,
   "metadata": {},
   "outputs": [
    {
     "name": "stdout",
     "output_type": "stream",
     "text": [
      "----------------------------------------------------------------------------------------------------------------------\n",
      "|\"Expedia\"                                  |\"Booking.com\"                                       |\"SCORING_RESULTS\"  |\n",
      "----------------------------------------------------------------------------------------------------------------------\n",
      "|Deluxe Room, 1 King Bed                    |Deluxe King Room                                    |7                  |\n",
      "|Standard Room, 1 King Bed, Accessible      |Standard King Roll-in Shower Accessible             |10                 |\n",
      "|Grand Corner King Room, 1 King Bed         |Grand Corner King Room                              |22                 |\n",
      "|Suite, 1 King Bed (Parlor)                 |King Parlor Suite                                   |0                  |\n",
      "|High-Floor Premium Room, 1 King Bed        |High-Floor Premium King Room                        |19                 |\n",
      "|Traditional Double Room, 2 Double Beds     |Double Room with Two Double Beds                    |1                  |\n",
      "|Room, 1 King Bed, Accessible               |King Room - Disability Access                       |0                  |\n",
      "|Deluxe Room, 1 King Bed                    |Deluxe King Room                                    |7                  |\n",
      "|Deluxe Room                                |Deluxe Room (Non Refundable)                        |11                 |\n",
      "|Room, 2 Double Beds (19th to 25th Floors)  |Two Double Beds - Location Room (19th to 25th F...  |1                  |\n",
      "----------------------------------------------------------------------------------------------------------------------\n",
      "\n"
     ]
    }
   ],
   "source": [
    "rt.select(col(\"\\\"Expedia\\\"\"), col(\"Booking.com\"), \\\n",
    "          call_udf(\"text_distance\", col(\"\\\"Expedia\\\"\"), col(\"Booking.com\")).as_(\"scoring_results\")).show()\n"
   ]
  },
  {
   "cell_type": "markdown",
   "metadata": {},
   "source": [
    "## Finally, we can save this DataFrame as a table to Snowflake, if we wish"
   ]
  },
  {
   "cell_type": "code",
   "execution_count": 14,
   "metadata": {},
   "outputs": [
    {
     "name": "stdout",
     "output_type": "stream",
     "text": [
      "CPU times: user 4.33 ms, sys: 1.93 ms, total: 6.26 ms\n",
      "Wall time: 1.22 s\n"
     ]
    }
   ],
   "source": [
    "%%time\n",
    "rt.select(col(\"\\\"Expedia\\\"\"), col(\"Booking.com\"), \\\n",
    "          call_udf(\"text_distance\", col(\"\\\"Expedia\\\"\"), col(\"Booking.com\")).as_(\"scoring_results\")).write.mode('overwrite').saveAsTable('room_type_scoring')\n"
   ]
  },
  {
   "cell_type": "code",
   "execution_count": 15,
   "metadata": {},
   "outputs": [
    {
     "name": "stdout",
     "output_type": "stream",
     "text": [
      "----------------------------------------------------------------------------------------------------------------------\n",
      "|\"Expedia\"                                  |\"Booking.com\"                                       |\"SCORING_RESULTS\"  |\n",
      "----------------------------------------------------------------------------------------------------------------------\n",
      "|Deluxe Room, 1 King Bed                    |Deluxe King Room                                    |7                  |\n",
      "|Standard Room, 1 King Bed, Accessible      |Standard King Roll-in Shower Accessible             |10                 |\n",
      "|Grand Corner King Room, 1 King Bed         |Grand Corner King Room                              |22                 |\n",
      "|Suite, 1 King Bed (Parlor)                 |King Parlor Suite                                   |0                  |\n",
      "|High-Floor Premium Room, 1 King Bed        |High-Floor Premium King Room                        |19                 |\n",
      "|Traditional Double Room, 2 Double Beds     |Double Room with Two Double Beds                    |1                  |\n",
      "|Room, 1 King Bed, Accessible               |King Room - Disability Access                       |0                  |\n",
      "|Deluxe Room, 1 King Bed                    |Deluxe King Room                                    |7                  |\n",
      "|Deluxe Room                                |Deluxe Room (Non Refundable)                        |11                 |\n",
      "|Room, 2 Double Beds (19th to 25th Floors)  |Two Double Beds - Location Room (19th to 25th F...  |1                  |\n",
      "----------------------------------------------------------------------------------------------------------------------\n",
      "\n"
     ]
    }
   ],
   "source": [
    "session.table(\"room_type_scoring\").show()"
   ]
  }
 ],
 "metadata": {
  "kernelspec": {
   "display_name": "Python 3 (ipykernel)",
   "language": "python",
   "name": "python3"
  },
  "language_info": {
   "codemirror_mode": {
    "name": "ipython",
    "version": 3
   },
   "file_extension": ".py",
   "mimetype": "text/x-python",
   "name": "python",
   "nbconvert_exporter": "python",
   "pygments_lexer": "ipython3",
   "version": "3.8.5"
  },
  "vscode": {
   "interpreter": {
    "hash": "5f3a8512aa92b42170cdbe9a8616164f878d8589204aabb8fc36a2cccb233e0d"
   }
  }
 },
 "nbformat": 4,
 "nbformat_minor": 4
}
